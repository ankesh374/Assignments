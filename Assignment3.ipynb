{
 "cells": [
  {
   "cell_type": "markdown",
   "id": "e5e0cb56-4605-445b-9144-1f9e133c433b",
   "metadata": {},
   "source": [
    "# Check Discount Eligibility\n",
    " "
   ]
  },
  {
   "cell_type": "code",
   "execution_count": 2,
   "id": "253a3cfa-3ee7-414e-abe0-994514645e0f",
   "metadata": {},
   "outputs": [
    {
     "name": "stdin",
     "output_type": "stream",
     "text": [
      "Enter the total purchase amount: $ 35\n"
     ]
    },
    {
     "name": "stdout",
     "output_type": "stream",
     "text": [
      "Total Purchase: $35.00\n",
      "No discount applied.\n",
      "Final Price: $35.00\n"
     ]
    }
   ],
   "source": [
    "def check_discount(total_purchase):\n",
    "    if total_purchase > 100:\n",
    "        discount = total_purchase * 0.10\n",
    "        final_price = total_purchase - discount\n",
    "        print(f\"Total Purchase: ${total_purchase:.2f}\")\n",
    "        print(f\"Discount Applied: 10%\")\n",
    "        print(f\"Final Price: ${final_price:.2f}\")\n",
    "    else:\n",
    "        print(f\"Total Purchase: ${total_purchase:.2f}\")\n",
    "        print(\"No discount applied.\")\n",
    "        print(f\"Final Price: ${total_purchase:.2f}\")\n",
    "\n",
    "total_purchase = float(input(\"Enter the total purchase amount: $\"))\n",
    "check_discount(total_purchase)\n"
   ]
  },
  {
   "cell_type": "markdown",
   "id": "6c81a38e-f489-4ade-9f73-03d697d95ffd",
   "metadata": {},
   "source": [
    "# Calculate Bulk Discount"
   ]
  },
  {
   "cell_type": "code",
   "execution_count": 5,
   "id": "d1c38300-2e5f-437f-acbc-1007a99526e0",
   "metadata": {},
   "outputs": [
    {
     "name": "stdin",
     "output_type": "stream",
     "text": [
      "Enter the total purchase amount: $ 555\n",
      "Enter the number of items:  3\n"
     ]
    },
    {
     "name": "stdout",
     "output_type": "stream",
     "text": [
      "Total Price: $555.00\n"
     ]
    }
   ],
   "source": [
    "total_price = float(input(\"Enter the total purchase amount: $\"))\n",
    "num_items = int(input(\"Enter the number of items: \"))\n",
    "\n",
    "if num_items > 5:\n",
    "    total_price -= total_price * 0.15\n",
    "\n",
    "print(f\"Total Price: ${total_price:.2f}\")\n",
    "\n"
   ]
  },
  {
   "cell_type": "markdown",
   "id": "50d0d5ea-83a0-42ee-bdc9-3898ceeec71c",
   "metadata": {},
   "source": [
    "# Membership Discount"
   ]
  },
  {
   "cell_type": "code",
   "execution_count": 8,
   "id": "9c038e60-6743-4b16-ada2-8f7a74db1382",
   "metadata": {},
   "outputs": [
    {
     "name": "stdin",
     "output_type": "stream",
     "text": [
      "Enter the total purchase amount: $ 8989\n",
      "Are you a member? (yes/no):  y\n"
     ]
    },
    {
     "name": "stdout",
     "output_type": "stream",
     "text": [
      "Discounted Price: $8539.55\n"
     ]
    }
   ],
   "source": [
    "def membership_discount(total_price, is_member):\n",
    "    if is_member:\n",
    "        discount = total_price * 0.20  # 20% discount for members\n",
    "    else:\n",
    "        discount = total_price * 0.05  # 5% discount for non-members\n",
    "    discounted_price = total_price - discount\n",
    "    return discounted_price\n",
    "\n",
    "total_price = float(input(\"Enter the total purchase amount: $\"))\n",
    "is_member = input(\"Are you a member? (yes/no): \").strip().lower() == 'yes'\n",
    "\n",
    "final_price = membership_discount(total_price, is_member)\n",
    "print(f\"Discounted Price: ${final_price:.2f}\")\n"
   ]
  },
  {
   "cell_type": "markdown",
   "id": "d2bf7a06-1d88-4447-a738-f1feeb4f7440",
   "metadata": {},
   "source": [
    " # Seasonal Sale"
   ]
  },
  {
   "cell_type": "code",
   "execution_count": 11,
   "id": "3030cfdc-1cbd-40e6-ad1e-cadf7317e20d",
   "metadata": {},
   "outputs": [
    {
     "name": "stdin",
     "output_type": "stream",
     "text": [
      "Enter the total purchase amount: $ 76867\n",
      "Is today a holiday? (yes/no):  y\n"
     ]
    },
    {
     "name": "stdout",
     "output_type": "stream",
     "text": [
      "Discounted Price: $69180.30\n"
     ]
    }
   ],
   "source": [
    "def seasonal_sale_discount(total_price, is_holiday):\n",
    "    if is_holiday:\n",
    "        discount = total_price * 0.25\n",
    "    else:\n",
    "        discount = total_price * 0.10\n",
    "    discounted_price = total_price - discount\n",
    "    return discounted_price\n",
    "\n",
    "total_price = float(input(\"Enter the total purchase amount: $\"))\n",
    "is_holiday = input(\"Is today a holiday? (yes/no): \").strip().lower() == 'yes'\n",
    "\n",
    "final_price = seasonal_sale_discount(total_price, is_holiday)\n",
    "print(f\"Discounted Price: ${final_price:.2f}\")\n"
   ]
  },
  {
   "cell_type": "markdown",
   "id": "e9d03a60-f6b2-45dd-987a-119ae35d94a7",
   "metadata": {},
   "source": [
    " # Buy-One-Get-One-Free"
   ]
  },
  {
   "cell_type": "code",
   "execution_count": 14,
   "id": "e835953f-6f93-4571-bfea-b3460b4bfbc3",
   "metadata": {},
   "outputs": [
    {
     "name": "stdin",
     "output_type": "stream",
     "text": [
      "Enter the number of items:  6\n",
      "Enter the price of one item: $ 200\n"
     ]
    },
    {
     "name": "stdout",
     "output_type": "stream",
     "text": [
      "Total Price to Pay: $600.00\n"
     ]
    }
   ],
   "source": [
    "def buy_one_get_one_free(num_items, item_price):\n",
    "    if num_items % 2 == 0:\n",
    "        items_to_pay_for = num_items // 2\n",
    "    else:\n",
    "        items_to_pay_for = num_items\n",
    "    \n",
    "    total_price = items_to_pay_for * item_price\n",
    "    return total_price\n",
    "\n",
    "num_items = int(input(\"Enter the number of items: \"))\n",
    "item_price = float(input(\"Enter the price of one item: $\"))\n",
    "\n",
    "final_price = buy_one_get_one_free(num_items, item_price)\n",
    "print(f\"Total Price to Pay: ${final_price:.2f}\")\n"
   ]
  },
  {
   "cell_type": "markdown",
   "id": "a666a96e-5dcb-47e8-b25b-be9973e8ef6b",
   "metadata": {},
   "source": [
    "# B- Tax Calculations "
   ]
  },
  {
   "cell_type": "markdown",
   "id": "666d659e-cef2-43eb-b81c-f3ff9df8617c",
   "metadata": {},
   "source": [
    "#  Sales Tax"
   ]
  },
  {
   "cell_type": "code",
   "execution_count": 20,
   "id": "b921c337-faa7-4424-a325-d2eec764877b",
   "metadata": {},
   "outputs": [
    {
     "name": "stdin",
     "output_type": "stream",
     "text": [
      "Enter the price of the item: $ 5000\n"
     ]
    },
    {
     "name": "stdout",
     "output_type": "stream",
     "text": [
      "Total Price after Tax: $5750.00\n"
     ]
    }
   ],
   "source": [
    "def sales_tax(item_price):\n",
    "    if item_price > 500:\n",
    "        tax = item_price * 0.15\n",
    "    else:\n",
    "        tax = item_price * 0.08\n",
    "    total_price = item_price + tax\n",
    "    return total_price\n",
    "\n",
    "item_price = float(input(\"Enter the price of the item: $\"))\n",
    "final_price = sales_tax(item_price)\n",
    "print(f\"Total Price after Tax: ${final_price:.2f}\")\n"
   ]
  },
  {
   "cell_type": "markdown",
   "id": "6c937b65-5471-4183-8a83-5dc054b0d355",
   "metadata": {},
   "source": [
    "# Income Tax"
   ]
  },
  {
   "cell_type": "code",
   "execution_count": 23,
   "id": "696514b6-bdcf-4c43-9382-701bff1569cf",
   "metadata": {},
   "outputs": [
    {
     "name": "stdin",
     "output_type": "stream",
     "text": [
      "Enter the annual income: $ 7000000\n"
     ]
    },
    {
     "name": "stdout",
     "output_type": "stream",
     "text": [
      "Income Tax: $1400000.00\n"
     ]
    }
   ],
   "source": [
    "def income_tax(annual_income):\n",
    "    if annual_income > 50000:\n",
    "        tax = annual_income * 0.20\n",
    "    else:\n",
    "        tax = annual_income * 0.10\n",
    "    return tax\n",
    "\n",
    "annual_income = float(input(\"Enter the annual income: $\"))\n",
    "tax_amount = income_tax(annual_income)\n",
    "print(f\"Income Tax: ${tax_amount:.2f}\")\n"
   ]
  },
  {
   "cell_type": "markdown",
   "id": "6c781f1a-a415-44ab-9a21-eb0d79ffae3b",
   "metadata": {},
   "source": [
    "# Tax Bracket"
   ]
  },
  {
   "cell_type": "code",
   "execution_count": 26,
   "id": "a1ce67b0-468d-474a-89d1-b2b1b251f3d7",
   "metadata": {},
   "outputs": [
    {
     "name": "stdin",
     "output_type": "stream",
     "text": [
      "Enter the annual income: $ 9000000\n"
     ]
    },
    {
     "name": "stdout",
     "output_type": "stream",
     "text": [
      "Tax Bracket: High Tax\n"
     ]
    }
   ],
   "source": [
    "def tax_bracket(income):\n",
    "    if income < 30000:\n",
    "        return \"Low Tax\"\n",
    "    elif 30000 <= income < 100000:\n",
    "        return \"Medium Tax\"\n",
    "    else:\n",
    "        return \"High Tax\"\n",
    "\n",
    "income = float(input(\"Enter the annual income: $\"))\n",
    "bracket = tax_bracket(income)\n",
    "print(f\"Tax Bracket: {bracket}\")\n",
    "\n"
   ]
  },
  {
   "cell_type": "markdown",
   "id": "5a891e40-dd1a-482a-a18d-6c4f8e77faa2",
   "metadata": {},
   "source": [
    "# VAT Calculation"
   ]
  },
  {
   "cell_type": "code",
   "execution_count": 71,
   "id": "04012a2a-b2be-48ec-93c8-5c6499e9a57d",
   "metadata": {},
   "outputs": [
    {
     "name": "stdin",
     "output_type": "stream",
     "text": [
      "Enter the price of the item: $ 9900\n",
      "Is the item essential? (yes/no):  y\n"
     ]
    },
    {
     "name": "stdout",
     "output_type": "stream",
     "text": [
      "Final Price with VAT: $11088.00\n"
     ]
    }
   ],
   "source": [
    "def vat_calculation(item_price, is_essential):\n",
    "    if is_essential:\n",
    "        vat = item_price * 0.05\n",
    "    else:\n",
    "        vat = item_price * 0.12\n",
    "    final_price = item_price + vat\n",
    "    return final_price\n",
    "\n",
    "item_price = float(input(\"Enter the price of the item: $\"))\n",
    "is_essential = input(\"Is the item essential? (yes/no): \").strip().lower() == 'yes'\n",
    "final_price = vat_calculation(item_price, is_essential)\n",
    "print(f\"Final Price with VAT: ${final_price:.2f}\")\n"
   ]
  },
  {
   "cell_type": "markdown",
   "id": "43232c53-f24d-41f8-ace3-0371d606d685",
   "metadata": {},
   "source": [
    "# Tax-Free Day"
   ]
  },
  {
   "cell_type": "code",
   "execution_count": 34,
   "id": "65962f78-807d-4724-b107-abd94d912b7a",
   "metadata": {},
   "outputs": [
    {
     "name": "stdin",
     "output_type": "stream",
     "text": [
      "Enter the price of the item: $ 8900\n",
      "Is today a tax-free day? (yes/no):  y\n"
     ]
    },
    {
     "name": "stdout",
     "output_type": "stream",
     "text": [
      "Final Price: $9523.00\n"
     ]
    }
   ],
   "source": [
    "def tax_free_day(item_price, tax_free):\n",
    "    if tax_free:\n",
    "        return item_price\n",
    "    else:\n",
    "        tax = item_price * 0.07\n",
    "        return item_price + tax\n",
    "\n",
    "item_price = float(input(\"Enter the price of the item: $\"))\n",
    "tax_free = input(\"Is today a tax-free day? (yes/no): \").strip().lower() == 'yes'\n",
    "final_price = tax_free_day(item_price, tax_free)\n",
    "print(f\"Final Price: ${final_price:.2f}\")\n"
   ]
  },
  {
   "cell_type": "markdown",
   "id": "9ba1028f-796d-4ae3-a7e9-19a6b0d52bac",
   "metadata": {},
   "source": [
    "# Shpping and Billing"
   ]
  },
  {
   "cell_type": "markdown",
   "id": "d480b81e-7d0a-4d62-bed4-a4305390ed7c",
   "metadata": {},
   "source": [
    "# Free shipping"
   ]
  },
  {
   "cell_type": "code",
   "execution_count": 69,
   "id": "b7a651ae-94b2-4cdc-8f95-2d87c7cc1d81",
   "metadata": {},
   "outputs": [
    {
     "name": "stdin",
     "output_type": "stream",
     "text": [
      "Enter the total purchase amount: $ 90000\n"
     ]
    },
    {
     "name": "stdout",
     "output_type": "stream",
     "text": [
      "Total Amount including Shipping: $90000.00\n"
     ]
    }
   ],
   "source": [
    "def free_shipping(total_purchase):\n",
    "    if total_purchase > 50:\n",
    "        return total_purchase\n",
    "    else:\n",
    "        return total_purchase + 5\n",
    "\n",
    "total_purchase = float(input(\"Enter the total purchase amount: $\"))\n",
    "final_price = free_shipping(total_purchase)\n",
    "print(f\"Total Amount including Shipping: ${final_price:.2f}\")\n"
   ]
  },
  {
   "cell_type": "markdown",
   "id": "ff61c119-9335-4310-98f0-b24e4734e029",
   "metadata": {},
   "source": [
    "# Discount code"
   ]
  },
  {
   "cell_type": "code",
   "execution_count": 67,
   "id": "bde7e253-23ac-4704-9465-0c8784d85adf",
   "metadata": {},
   "outputs": [
    {
     "name": "stdin",
     "output_type": "stream",
     "text": [
      "Enter the total purchase amount: $ 90000\n",
      "Enter the discount code:  9uiu\n"
     ]
    },
    {
     "name": "stdout",
     "output_type": "stream",
     "text": [
      "Total Amount after Discount: $90000.00\n"
     ]
    }
   ],
   "source": [
    "def discount_code(total_purchase, code):\n",
    "    if code == \"DISCOUNT10\":\n",
    "        return total_purchase * 0.90\n",
    "    else:\n",
    "        return total_purchase\n",
    "\n",
    "total_purchase = float(input(\"Enter the total purchase amount: $\"))\n",
    "code = input(\"Enter the discount code: \").strip()\n",
    "final_price = discount_code(total_purchase, code)\n",
    "print(f\"Total Amount after Discount: ${final_price:.2f}\")\n"
   ]
  },
  {
   "cell_type": "markdown",
   "id": "98222ecc-10a9-4558-a823-031676628c61",
   "metadata": {},
   "source": [
    "# Tiered Discount"
   ]
  },
  {
   "cell_type": "code",
   "execution_count": 65,
   "id": "a7c9afe0-0652-459a-bbe5-42b1c097a992",
   "metadata": {},
   "outputs": [
    {
     "name": "stdin",
     "output_type": "stream",
     "text": [
      "Enter the total purchase amount: $ 90000\n"
     ]
    },
    {
     "name": "stdout",
     "output_type": "stream",
     "text": [
      "Total Amount after Discount: $72000.00\n"
     ]
    }
   ],
   "source": [
    "def tiered_discount(total_purchase):\n",
    "    if total_purchase <= 50:\n",
    "        return total_purchase\n",
    "    elif total_purchase <= 100:\n",
    "        return total_purchase * 0.90\n",
    "    else:\n",
    "        return total_purchase * 0.80\n",
    "\n",
    "total_purchase = float(input(\"Enter the total purchase amount: $\"))\n",
    "final_price = tiered_discount(total_purchase)\n",
    "print(f\"Total Amount after Discount: ${final_price:.2f}\")\n"
   ]
  },
  {
   "cell_type": "markdown",
   "id": "71472af2-c6a8-4049-a9a6-28eddf808d98",
   "metadata": {},
   "source": [
    "# 14. Minimum Purchase Requirement\n"
   ]
  },
  {
   "cell_type": "code",
   "execution_count": 63,
   "id": "fda54ff1-212e-4d4e-aea8-5b5493eb8dfd",
   "metadata": {},
   "outputs": [
    {
     "name": "stdin",
     "output_type": "stream",
     "text": [
      "Enter the total purchase amount: $ 888\n"
     ]
    },
    {
     "name": "stdout",
     "output_type": "stream",
     "text": [
      "Total Amount: $888.00\n"
     ]
    }
   ],
   "source": [
    "def minimum_purchase(total_purchase):\n",
    "    if total_purchase < 20:\n",
    "        print(\"Minimum purchase of $20 is required.\")\n",
    "    else:\n",
    "        print(f\"Total Amount: ${total_purchase:.2f}\")\n",
    "\n",
    "total_purchase = float(input(\"Enter the total purchase amount: $\"))\n",
    "minimum_purchase(total_purchase)\n"
   ]
  },
  {
   "cell_type": "markdown",
   "id": "ff3ada81-3bf7-4c40-b0b3-e51a4578fef7",
   "metadata": {},
   "source": [
    "# Loyalty Points"
   ]
  },
  {
   "cell_type": "code",
   "execution_count": 61,
   "id": "0ad201e8-27dc-4b84-98fe-7e99866c78aa",
   "metadata": {},
   "outputs": [
    {
     "name": "stdin",
     "output_type": "stream",
     "text": [
      "Enter the total purchase amount: $ 99999\n",
      "Are you a loyal member? (yes/no):  y\n"
     ]
    },
    {
     "name": "stdout",
     "output_type": "stream",
     "text": [
      "Loyalty Points Earned: 99999.00\n"
     ]
    }
   ],
   "source": [
    "def loyalty_points(total_purchase, is_loyal):\n",
    "    if is_loyal:\n",
    "        return total_purchase * 2\n",
    "    else:\n",
    "        return total_purchase\n",
    "\n",
    "total_purchase = float(input(\"Enter the total purchase amount: $\"))\n",
    "is_loyal = input(\"Are you a loyal member? (yes/no): \").strip().lower() == 'yes'\n",
    "points = loyalty_points(total_purchase, is_loyal)\n",
    "print(f\"Loyalty Points Earned: {points:.2f}\")\n"
   ]
  },
  {
   "cell_type": "markdown",
   "id": "b3a75171-51c1-4cd1-9719-d82b683c0d15",
   "metadata": {},
   "source": [
    "# Travel and Tickets"
   ]
  },
  {
   "cell_type": "markdown",
   "id": "0ca51bbc-72fa-4fe3-af23-56c2f5cdbf1b",
   "metadata": {},
   "source": [
    "# Travel Discount"
   ]
  },
  {
   "cell_type": "code",
   "execution_count": 59,
   "id": "30808c25-b4e0-4525-b66b-1ab7bd003235",
   "metadata": {},
   "outputs": [
    {
     "name": "stdin",
     "output_type": "stream",
     "text": [
      "Enter the ticket price: $ 899\n",
      "Enter the travel distance in miles:  300\n"
     ]
    },
    {
     "name": "stdout",
     "output_type": "stream",
     "text": [
      "Total Ticket Price: $899.00\n"
     ]
    }
   ],
   "source": [
    "def travel_discount(ticket_price, miles):\n",
    "    if miles > 500:\n",
    "        return ticket_price * 0.80\n",
    "    else:\n",
    "        return ticket_price\n",
    "\n",
    "ticket_price = float(input(\"Enter the ticket price: $\"))\n",
    "miles = float(input(\"Enter the travel distance in miles: \"))\n",
    "final_price = travel_discount(ticket_price, miles)\n",
    "print(f\"Total Ticket Price: ${final_price:.2f}\")\n"
   ]
  },
  {
   "cell_type": "markdown",
   "id": "52056fb3-915c-4142-ad27-e1e745295d62",
   "metadata": {},
   "source": [
    "# 17. Child or Senior Discount\n"
   ]
  },
  {
   "cell_type": "code",
   "execution_count": 73,
   "id": "e617498a-b951-4c3b-a011-af3f4be8bf7b",
   "metadata": {},
   "outputs": [
    {
     "name": "stdin",
     "output_type": "stream",
     "text": [
      "Enter the ticket price: $ 8000\n",
      "Enter the passenger's age:  13\n"
     ]
    },
    {
     "name": "stdout",
     "output_type": "stream",
     "text": [
      "Total Ticket Price: $8000.00\n"
     ]
    }
   ],
   "source": [
    "def child_or_senior_discount(ticket_price, age):\n",
    "    if age < 12 or age > 60:\n",
    "        return ticket_price * 0.85\n",
    "    else:\n",
    "        return ticket_price\n",
    "\n",
    "ticket_price = float(input(\"Enter the ticket price: $\"))\n",
    "age = int(input(\"Enter the passenger's age: \"))\n",
    "final_price = child_or_senior_discount(ticket_price, age)\n",
    "print(f\"Total Ticket Price: ${final_price:.2f}\")\n"
   ]
  },
  {
   "cell_type": "markdown",
   "id": "04f28899-0838-4aa8-9b47-44b8a2cf1662",
   "metadata": {},
   "source": [
    "#  Ticket Type Pricing\n"
   ]
  },
  {
   "cell_type": "code",
   "execution_count": 78,
   "id": "7934fcb6-a0a6-4a24-a09b-4b4d55e5277b",
   "metadata": {},
   "outputs": [
    {
     "name": "stdin",
     "output_type": "stream",
     "text": [
      "Enter the ticket price: $ 900\n",
      "Is it a weekend? (yes/no):  yes\n"
     ]
    },
    {
     "name": "stdout",
     "output_type": "stream",
     "text": [
      "Total Ticket Price: $990.00\n"
     ]
    }
   ],
   "source": [
    "def ticket_type_pricing(ticket_price, is_weekend):\n",
    "    if is_weekend:\n",
    "        return ticket_price * 1.10\n",
    "    else:\n",
    "        return ticket_price\n",
    "\n",
    "ticket_price = float(input(\"Enter the ticket price: $\"))\n",
    "is_weekend = input(\"Is it a weekend? (yes/no): \").strip().lower() == 'yes'\n",
    "final_price = ticket_type_pricing(ticket_price, is_weekend)\n",
    "print(f\"Total Ticket Price: ${final_price:.2f}\")\n"
   ]
  },
  {
   "cell_type": "markdown",
   "id": "155fb28a-a9f3-49ce-9b62-62c52ba0eced",
   "metadata": {},
   "source": [
    "# Baggage fee"
   ]
  },
  {
   "cell_type": "code",
   "execution_count": 81,
   "id": "0b917e19-1c50-441e-984f-07dd4349cc9c",
   "metadata": {},
   "outputs": [
    {
     "name": "stdin",
     "output_type": "stream",
     "text": [
      "Enter the baggage weight in kg:  87\n"
     ]
    },
    {
     "name": "stdout",
     "output_type": "stream",
     "text": [
      "Baggage Fee: $670.00\n"
     ]
    }
   ],
   "source": [
    "def baggage_fee(weight):\n",
    "    if weight > 20:\n",
    "        return (weight - 20) * 10\n",
    "    else:\n",
    "        return 0\n",
    "\n",
    "weight = float(input(\"Enter the baggage weight in kg: \"))\n",
    "fee = baggage_fee(weight)\n",
    "print(f\"Baggage Fee: ${fee:.2f}\")\n"
   ]
  },
  {
   "cell_type": "markdown",
   "id": "12251a84-a3ac-4cbd-8cfd-b15151d1dc6d",
   "metadata": {},
   "source": [
    "# Early Bird Discount\n"
   ]
  },
  {
   "cell_type": "code",
   "execution_count": 86,
   "id": "0d71220b-9605-413b-a76c-693cf5b00647",
   "metadata": {},
   "outputs": [
    {
     "name": "stdin",
     "output_type": "stream",
     "text": [
      "Enter the ticket price: $ 900\n",
      "Enter the number of days the ticket was booked in advance:  98\n"
     ]
    },
    {
     "name": "stdout",
     "output_type": "stream",
     "text": [
      "Total Ticket Price: $810.00\n"
     ]
    }
   ],
   "source": [
    "def early_bird_discount(ticket_price, days_in_advance):\n",
    "    if days_in_advance > 30:\n",
    "        return ticket_price * 0.90\n",
    "    else:\n",
    "        return ticket_price\n",
    "\n",
    "ticket_price = float(input(\"Enter the ticket price: $\"))\n",
    "days_in_advance = int(input(\"Enter the number of days the ticket was booked in advance: \"))\n",
    "final_price = early_bird_discount(ticket_price, days_in_advance)\n",
    "print(f\"Total Ticket Price: ${final_price:.2f}\")\n"
   ]
  },
  {
   "cell_type": "markdown",
   "id": "c7ef3c84-8fc1-4f04-9e27-5415b3d9e1a5",
   "metadata": {},
   "source": [
    "# Grades and Performance"
   ]
  },
  {
   "cell_type": "markdown",
   "id": "ad700ee3-96cc-48d1-9945-bba3847451df",
   "metadata": {},
   "source": [
    "# Pass OR Fail"
   ]
  },
  {
   "cell_type": "code",
   "execution_count": 90,
   "id": "0d6c05bd-1c36-4b39-94fd-1dfbbbde3507",
   "metadata": {},
   "outputs": [
    {
     "name": "stdin",
     "output_type": "stream",
     "text": [
      "Enter the student's score:  78\n"
     ]
    },
    {
     "name": "stdout",
     "output_type": "stream",
     "text": [
      "Pass\n"
     ]
    }
   ],
   "source": [
    "score = float(input(\"Enter the student's score: \"))\n",
    "if score >= 40:\n",
    "    print(\"Pass\")\n",
    "else:\n",
    "    print(\"Fail\")\n",
    "\n"
   ]
  },
  {
   "cell_type": "markdown",
   "id": "3f227918-b2b1-4ba1-ad49-4f2a80b2dbec",
   "metadata": {},
   "source": [
    "#  Grade Assignment\n"
   ]
  },
  {
   "cell_type": "code",
   "execution_count": 93,
   "id": "24862740-4ba7-4808-8eed-e950f140dd53",
   "metadata": {},
   "outputs": [
    {
     "name": "stdin",
     "output_type": "stream",
     "text": [
      "Enter the student's score:  89\n"
     ]
    },
    {
     "name": "stdout",
     "output_type": "stream",
     "text": [
      "B\n"
     ]
    }
   ],
   "source": [
    "score = float(input(\"Enter the student's score: \"))\n",
    "if score >= 90:\n",
    "    print(\"A\")\n",
    "elif 75 <= score < 90:\n",
    "    print(\"B\")\n",
    "elif 50 <= score < 75:\n",
    "    print(\"C\")\n",
    "else:\n",
    "    print(\"F\")\n"
   ]
  },
  {
   "cell_type": "markdown",
   "id": "2cee5006-d14d-478c-955f-d60246b7e48f",
   "metadata": {},
   "source": [
    "# Bonus Marks"
   ]
  },
  {
   "cell_type": "code",
   "execution_count": 96,
   "id": "1aacecb2-056e-4ace-aaff-2208fa47fddf",
   "metadata": {},
   "outputs": [
    {
     "name": "stdin",
     "output_type": "stream",
     "text": [
      "Enter the student's score:  8\n",
      "Did the student complete all assignments? (yes/no):  yes\n"
     ]
    },
    {
     "name": "stdout",
     "output_type": "stream",
     "text": [
      "Final Score: 13.0\n"
     ]
    }
   ],
   "source": [
    "score = float(input(\"Enter the student's score: \"))\n",
    "completed_assignments = input(\"Did the student complete all assignments? (yes/no): \").strip().lower() == 'yes'\n",
    "if completed_assignments:\n",
    "    score += 5\n",
    "print(f\"Final Score: {score}\")\n"
   ]
  },
  {
   "cell_type": "markdown",
   "id": "0c14497b-26b1-44a0-b35a-aad49274ac3c",
   "metadata": {},
   "source": [
    "# Attendance Eligibility\n"
   ]
  },
  {
   "cell_type": "code",
   "execution_count": 99,
   "id": "f11a6c89-3ece-49d5-8173-aec43918701f",
   "metadata": {},
   "outputs": [
    {
     "name": "stdin",
     "output_type": "stream",
     "text": [
      "Enter the student's attendance percentage:  89\n"
     ]
    },
    {
     "name": "stdout",
     "output_type": "stream",
     "text": [
      "Eligible for exam\n"
     ]
    }
   ],
   "source": [
    "attendance = float(input(\"Enter the student's attendance percentage: \"))\n",
    "if attendance >= 75:\n",
    "    print(\"Eligible for exam\")\n",
    "else:\n",
    "    print(\"Not eligible for exam\")\n"
   ]
  },
  {
   "cell_type": "markdown",
   "id": "1219887c-66ee-4465-8ecd-033bf048cae0",
   "metadata": {},
   "source": [
    "#  Scholarship Eligibility\n"
   ]
  },
  {
   "cell_type": "code",
   "execution_count": 102,
   "id": "52a5d078-d4b3-41fd-a9c4-8ad960b2948e",
   "metadata": {},
   "outputs": [
    {
     "name": "stdin",
     "output_type": "stream",
     "text": [
      "Enter the student's grade:  A\n",
      "Enter the annual family income: $ 700\n"
     ]
    },
    {
     "name": "stdout",
     "output_type": "stream",
     "text": [
      "Eligible for scholarship\n"
     ]
    }
   ],
   "source": [
    "grade = input(\"Enter the student's grade: \").strip().upper()\n",
    "family_income = float(input(\"Enter the annual family income: $\"))\n",
    "if grade == \"A\" and family_income < 30000:\n",
    "    print(\"Eligible for scholarship\")\n",
    "else:\n",
    "    print(\"Not eligible for scholarship\")\n"
   ]
  },
  {
   "cell_type": "code",
   "execution_count": null,
   "id": "b23af073-446a-4d7e-bfca-c01cbaae0123",
   "metadata": {},
   "outputs": [],
   "source": []
  }
 ],
 "metadata": {
  "kernelspec": {
   "display_name": "Python [conda env:base] *",
   "language": "python",
   "name": "conda-base-py"
  },
  "language_info": {
   "codemirror_mode": {
    "name": "ipython",
    "version": 3
   },
   "file_extension": ".py",
   "mimetype": "text/x-python",
   "name": "python",
   "nbconvert_exporter": "python",
   "pygments_lexer": "ipython3",
   "version": "3.12.7"
  }
 },
 "nbformat": 4,
 "nbformat_minor": 5
}
