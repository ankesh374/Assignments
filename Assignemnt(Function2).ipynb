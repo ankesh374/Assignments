{
 "cells": [
  {
   "cell_type": "markdown",
   "id": "9c3245c2-3045-4d12-8579-c24e332ade10",
   "metadata": {},
   "source": [
    "# Task1"
   ]
  },
  {
   "cell_type": "code",
   "execution_count": 1,
   "id": "65c55d08-e2ce-4f1c-bbd3-d566df164dbb",
   "metadata": {},
   "outputs": [
    {
     "name": "stdout",
     "output_type": "stream",
     "text": [
      "2002,2009,2016,2023,2037,2044,2051,2058,2072,2079,2086,2093,2107,2114,2121,2128,2142,2149,2156,2163,2177,2184,2191,2198,2212,2219,2226,2233,2247,2254,2261,2268,2282,2289,2296,2303,2317,2324,2331,2338,2352,2359,2366,2373,2387,2394,2401,2408,2422,2429,2436,2443,2457,2464,2471,2478,2492,2499,2506,2513,2527,2534,2541,2548,2562,2569,2576,2583,2597,2604,2611,2618,2632,2639,2646,2653,2667,2674,2681,2688,2702,2709,2716,2723,2737,2744,2751,2758,2772,2779,2786,2793,2807,2814,2821,2828,2842,2849,2856,2863,2877,2884,2891,2898,2912,2919,2926,2933,2947,2954,2961,2968,2982,2989,2996,3003,3017,3024,3031,3038,3052,3059,3066,3073,3087,3094,3101,3108,3122,3129,3136,3143,3157,3164,3171,3178,3192,3199\n"
     ]
    }
   ],
   "source": [
    "def find_numbers():\n",
    "    result = [str(i) for i in range(2000, 3201) if i % 7 == 0 and i % 5 != 0]\n",
    "    return \",\".join(result)\n",
    "\n",
    "print(find_numbers())\n"
   ]
  },
  {
   "cell_type": "markdown",
   "id": "7e79ed5b-913c-43d6-947d-db87118d07bb",
   "metadata": {},
   "source": [
    "# task3"
   ]
  },
  {
   "cell_type": "code",
   "execution_count": 2,
   "id": "5eaa78b3-2dfe-4e8e-a350-0a01894504dd",
   "metadata": {},
   "outputs": [
    {
     "name": "stdin",
     "output_type": "stream",
     "text": [
      "Enter values of A and B (comma-separated):  2,3\n",
      "Enter the value of C:  4\n"
     ]
    },
    {
     "name": "stdout",
     "output_type": "stream",
     "text": [
      "1.7320508075688772\n"
     ]
    }
   ],
   "source": [
    "import math\n",
    "\n",
    "def calculate_q():\n",
    "    values = input(\"Enter values of A and B (comma-separated): \")\n",
    "    A, B = map(int, values.split(\",\"))\n",
    "    C = int(input(\"Enter the value of C: \"))\n",
    "    Q = math.sqrt((2 * A * B) / C)\n",
    "    return Q\n",
    "\n",
    "print(calculate_q())\n"
   ]
  },
  {
   "cell_type": "markdown",
   "id": "94ade598-1a51-45b7-82c9-234bcb1ffb09",
   "metadata": {},
   "source": [
    "# task3"
   ]
  },
  {
   "cell_type": "code",
   "execution_count": 5,
   "id": "e9fdfc8a-7090-4285-8f6f-0ec274fdb9aa",
   "metadata": {},
   "outputs": [
    {
     "name": "stdin",
     "output_type": "stream",
     "text": [
      "Enter comma-separated words:  a,b,c,d,e,f,g\n"
     ]
    },
    {
     "name": "stdout",
     "output_type": "stream",
     "text": [
      "a,b,c,d,e,f,g\n"
     ]
    }
   ],
   "source": [
    "def sort_words():\n",
    "    words = input(\"Enter comma-separated words: \")\n",
    "    sorted_words = \",\".join(sorted(words.split(\",\")))\n",
    "    return sorted_words\n",
    "\n",
    "print(sort_words())\n"
   ]
  },
  {
   "cell_type": "markdown",
   "id": "90a62164-ad98-4e8c-9f08-e49c426e462d",
   "metadata": {},
   "source": [
    "# Task4"
   ]
  },
  {
   "cell_type": "code",
   "execution_count": 6,
   "id": "b5f04c49-ed07-4010-bd13-6f4503d0a55c",
   "metadata": {},
   "outputs": [
    {
     "name": "stdout",
     "output_type": "stream",
     "text": [
      "Enter lines of text (type 'END' to finish):\n"
     ]
    },
    {
     "name": "stdin",
     "output_type": "stream",
     "text": [
      " aankesshdcvbzsjvcbAEufenhfaej sadj  sjcfasnc  wejaendj jv \n",
      " end\n"
     ]
    },
    {
     "name": "stdout",
     "output_type": "stream",
     "text": [
      "AANKESSHDCVBZSJVCBAEUFENHFAEJ SADJ  SJCFASNC  WEJAENDJ JV \n"
     ]
    }
   ],
   "source": [
    "def uppercase_sentences():\n",
    "    lines = []\n",
    "    print(\"Enter lines of text (type 'END' to finish):\")\n",
    "    while True:\n",
    "        line = input()\n",
    "        if line.strip().upper() == \"END\":\n",
    "            break\n",
    "        lines.append(line.upper())\n",
    "    return \"\\n\".join(lines)\n",
    "\n",
    "print(uppercase_sentences())\n"
   ]
  },
  {
   "cell_type": "markdown",
   "id": "aad1561a-4090-427d-8581-80a9dda618cd",
   "metadata": {},
   "source": [
    "# Task5"
   ]
  },
  {
   "cell_type": "code",
   "execution_count": 7,
   "id": "4950ff3e-2763-4562-af02-b5839e302883",
   "metadata": {},
   "outputs": [
    {
     "name": "stdin",
     "output_type": "stream",
     "text": [
      "Enter a sentence:  i am study in saylani\n"
     ]
    },
    {
     "name": "stdout",
     "output_type": "stream",
     "text": [
      "{'a': 3, 'e': 0, 'i': 3, 'o': 0, 'u': 1}\n"
     ]
    }
   ],
   "source": [
    "def count_vowels():\n",
    "    sentence = input(\"Enter a sentence: \").lower()\n",
    "    vowels = \"aeiou\"\n",
    "    counts = {vowel: sentence.count(vowel) for vowel in vowels}\n",
    "    return counts\n",
    "\n",
    "print(count_vowels())\n"
   ]
  },
  {
   "cell_type": "markdown",
   "id": "7dfe2c5c-22a7-4f86-8e92-d42461364e61",
   "metadata": {},
   "source": [
    "# task6"
   ]
  },
  {
   "cell_type": "code",
   "execution_count": 8,
   "id": "cd7dd746-ae36-457b-96d9-8eb59679fc09",
   "metadata": {},
   "outputs": [
    {
     "name": "stdout",
     "output_type": "stream",
     "text": [
      "2000,2002,2004,2006,2008,2020,2022,2024,2026,2028,2040,2042,2044,2046,2048,2060,2062,2064,2066,2068,2080,2082,2084,2086,2088,2200,2202,2204,2206,2208,2220,2222,2224,2226,2228,2240,2242,2244,2246,2248,2260,2262,2264,2266,2268,2280,2282,2284,2286,2288,2400,2402,2404,2406,2408,2420,2422,2424,2426,2428,2440,2442,2444,2446,2448,2460,2462,2464,2466,2468,2480,2482,2484,2486,2488,2600,2602,2604,2606,2608,2620,2622,2624,2626,2628,2640,2642,2644,2646,2648,2660,2662,2664,2666,2668,2680,2682,2684,2686,2688,2800,2802,2804,2806,2808,2820,2822,2824,2826,2828,2840,2842,2844,2846,2848,2860,2862,2864,2866,2868,2880,2882,2884,2886,2888\n"
     ]
    }
   ],
   "source": [
    "def find_even_digit_numbers():\n",
    "    result = [str(i) for i in range(1000, 3001) if all(int(d) % 2 == 0 for d in str(i))]\n",
    "    return \",\".join(result)\n",
    "\n",
    "print(find_even_digit_numbers())\n"
   ]
  },
  {
   "cell_type": "markdown",
   "id": "00515a12-081d-447a-8aea-d5b488652003",
   "metadata": {},
   "source": [
    "# task7"
   ]
  },
  {
   "cell_type": "code",
   "execution_count": 14,
   "id": "1515cb8a-4f05-49ea-8df0-2a88afed054b",
   "metadata": {},
   "outputs": [
    {
     "name": "stdin",
     "output_type": "stream",
     "text": [
      "Enter comma-separated binary numbers:  10001,10001,1001,0001\n"
     ]
    },
    {
     "name": "stdout",
     "output_type": "stream",
     "text": [
      "\n"
     ]
    }
   ],
   "source": [
    "def binary_divisible_by_5():\n",
    "    binaries = input(\"Enter comma-separated binary numbers: \").split(\",\")\n",
    "    divisible = [b for b in binaries if int(b, 2) % 5 == 0]\n",
    "    return \",\".join(divisible)\n",
    "\n",
    "print(binary_divisible_by_5())\n"
   ]
  },
  {
   "cell_type": "markdown",
   "id": "4161d7bf-6f55-4f50-ba7b-672118f0b902",
   "metadata": {},
   "source": [
    "# task8"
   ]
  },
  {
   "cell_type": "code",
   "execution_count": 15,
   "id": "8b9201d3-7e6e-4099-9724-9e716e2598a3",
   "metadata": {},
   "outputs": [
    {
     "name": "stdin",
     "output_type": "stream",
     "text": [
      "Enter a sentence:  ankesh rahul  sajid hguusns\n"
     ]
    },
    {
     "name": "stdout",
     "output_type": "stream",
     "text": [
      "LETTERS 23\n",
      "DIGITS 0\n"
     ]
    }
   ],
   "source": [
    "def count_letters_and_digits():\n",
    "    sentence = input(\"Enter a sentence: \")\n",
    "    letters = sum(char.isalpha() for char in sentence)\n",
    "    digits = sum(char.isdigit() for char in sentence)\n",
    "    print(f\"LETTERS {letters}\")\n",
    "    print(f\"DIGITS {digits}\")\n",
    "\n",
    "count_letters_and_digits()\n"
   ]
  },
  {
   "cell_type": "code",
   "execution_count": null,
   "id": "9b3b0d74-8931-466e-8c1a-42fb69d270e3",
   "metadata": {},
   "outputs": [],
   "source": []
  }
 ],
 "metadata": {
  "kernelspec": {
   "display_name": "Python 3 (ipykernel)",
   "language": "python",
   "name": "python3"
  },
  "language_info": {
   "codemirror_mode": {
    "name": "ipython",
    "version": 3
   },
   "file_extension": ".py",
   "mimetype": "text/x-python",
   "name": "python",
   "nbconvert_exporter": "python",
   "pygments_lexer": "ipython3",
   "version": "3.12.7"
  }
 },
 "nbformat": 4,
 "nbformat_minor": 5
}
