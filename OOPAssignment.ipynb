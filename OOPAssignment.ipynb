{
 "cells": [
  {
   "cell_type": "markdown",
   "id": "eb5e8843-d209-4b28-90ec-e7a0b543d670",
   "metadata": {},
   "source": [
    "# Task 1"
   ]
  },
  {
   "cell_type": "code",
   "execution_count": 1,
   "id": "7edd42ad-1923-4383-a310-9d3d29595856",
   "metadata": {},
   "outputs": [
    {
     "name": "stdout",
     "output_type": "stream",
     "text": [
      "Name: Alice, Age: 25\n",
      "Name: Bob, Age: 30\n"
     ]
    }
   ],
   "source": [
    "class Person:\n",
    "    def __init__(self, name, age):\n",
    "        self.name = name\n",
    "        self.age = age\n",
    "\n",
    "    def display(self):\n",
    "        return f\"Name: {self.name}, Age: {self.age}\"\n",
    "\n",
    "p1 = Person(\"Alice\", 25)\n",
    "p2 = Person(\"Bob\", 30)\n",
    "print(p1.display())\n",
    "print(p2.display())\n"
   ]
  },
  {
   "cell_type": "markdown",
   "id": "a5c1a738-bd3c-48a2-a557-21d769e5c1c6",
   "metadata": {},
   "source": [
    "# Task 2"
   ]
  },
  {
   "cell_type": "code",
   "execution_count": 2,
   "id": "9edbf01c-a611-4666-865d-afb6eb534e27",
   "metadata": {},
   "outputs": [
    {
     "name": "stdout",
     "output_type": "stream",
     "text": [
      "50\n",
      "30\n"
     ]
    }
   ],
   "source": [
    "class Rectangle:\n",
    "    def __init__(self, width, height):\n",
    "        self.width = width\n",
    "        self.height = height\n",
    "\n",
    "    def area(self):\n",
    "        return self.width * self.height\n",
    "\n",
    "    def perimeter(self):\n",
    "        return 2 * (self.width + self.height)\n",
    "\n",
    "rect = Rectangle(5, 10)\n",
    "print(rect.area())\n",
    "print(rect.perimeter())\n"
   ]
  },
  {
   "cell_type": "markdown",
   "id": "ba9842cd-3251-458e-917a-efa23ee2134d",
   "metadata": {},
   "source": [
    "# Task 3"
   ]
  },
  {
   "cell_type": "code",
   "execution_count": 3,
   "id": "dfccf0df-9318-4e97-b834-aa82c6074b2e",
   "metadata": {},
   "outputs": [
    {
     "name": "stdout",
     "output_type": "stream",
     "text": [
      "Make: Toyota, Model: Corolla, Year: 2020, Doors: 4\n"
     ]
    }
   ],
   "source": [
    "class Vehicle:\n",
    "    def __init__(self, make, model, year):\n",
    "        self.make = make\n",
    "        self.model = model\n",
    "        self.year = year\n",
    "\n",
    "    def display(self):\n",
    "        return f\"Make: {self.make}, Model: {self.model}, Year: {self.year}\"\n",
    "\n",
    "class Car(Vehicle):\n",
    "    def __init__(self, make, model, year, doors):\n",
    "        super().__init__(make, model, year)\n",
    "        self.doors = doors\n",
    "\n",
    "    def display(self):\n",
    "        return f\"Make: {self.make}, Model: {self.model}, Year: {self.year}, Doors: {self.doors}\"\n",
    "\n",
    "car = Car(\"Toyota\", \"Corolla\", 2020, 4)\n",
    "print(car.display())\n"
   ]
  },
  {
   "cell_type": "markdown",
   "id": "cf9a65cf-7749-4bb0-b091-83da0741e2a6",
   "metadata": {},
   "source": [
    "# Task 4"
   ]
  },
  {
   "cell_type": "code",
   "execution_count": 4,
   "id": "19580899-f8a1-470a-9fad-9e2aea77400c",
   "metadata": {},
   "outputs": [
    {
     "name": "stdout",
     "output_type": "stream",
     "text": [
      "1300\n"
     ]
    }
   ],
   "source": [
    "class BankAccount:\n",
    "    def __init__(self, account_number, balance):\n",
    "        self.account_number = account_number\n",
    "        self.balance = balance\n",
    "\n",
    "    def deposit(self, amount):\n",
    "        self.balance += amount\n",
    "\n",
    "    def withdraw(self, amount):\n",
    "        if amount <= self.balance:\n",
    "            self.balance -= amount\n",
    "\n",
    "account = BankAccount(\"12345\", 1000)\n",
    "account.deposit(500)\n",
    "account.withdraw(200)\n",
    "print(account.balance)\n"
   ]
  },
  {
   "cell_type": "markdown",
   "id": "fe62c629-0279-4311-81b1-c711e58d47d0",
   "metadata": {},
   "source": [
    "# Task 5"
   ]
  },
  {
   "cell_type": "code",
   "execution_count": 5,
   "id": "cf3588ee-63d1-4e73-805d-ea093c03f7a9",
   "metadata": {},
   "outputs": [
    {
     "name": "stdout",
     "output_type": "stream",
     "text": [
      "78.5\n",
      "12.0\n"
     ]
    }
   ],
   "source": [
    "class Shape:\n",
    "    def area(self):\n",
    "        pass\n",
    "\n",
    "class Circle(Shape):\n",
    "    def __init__(self, radius):\n",
    "        self.radius = radius\n",
    "\n",
    "    def area(self):\n",
    "        return 3.14 * self.radius ** 2\n",
    "\n",
    "class Triangle(Shape):\n",
    "    def __init__(self, base, height):\n",
    "        self.base = base\n",
    "        self.height = height\n",
    "\n",
    "    def area(self):\n",
    "        return 0.5 * self.base * self.height\n",
    "\n",
    "circle = Circle(5)\n",
    "triangle = Triangle(6, 4)\n",
    "print(circle.area())\n",
    "print(triangle.area())\n"
   ]
  },
  {
   "cell_type": "markdown",
   "id": "5e9184bf-ffd5-483d-8800-bc373919d9d7",
   "metadata": {},
   "source": [
    "# Task 6"
   ]
  },
  {
   "cell_type": "code",
   "execution_count": 6,
   "id": "dab882ae-b484-4ff9-a3be-7ff97a030ff9",
   "metadata": {},
   "outputs": [
    {
     "name": "stdout",
     "output_type": "stream",
     "text": [
      "101000\n",
      "113000\n"
     ]
    }
   ],
   "source": [
    "class Employee:\n",
    "    def __init__(self, name, salary):\n",
    "        self.name = name\n",
    "        self.salary = salary\n",
    "\n",
    "    def annual_salary(self):\n",
    "        return self.salary * 12\n",
    "\n",
    "class Manager(Employee):\n",
    "    def __init__(self, name, salary, department):\n",
    "        super().__init__(name, salary)\n",
    "        self.department = department\n",
    "\n",
    "    def annual_salary(self):\n",
    "        return super().annual_salary() + 5000\n",
    "\n",
    "manager1 = Manager(\"Alice\", 8000, \"HR\")\n",
    "manager2 = Manager(\"Bob\", 9000, \"IT\")\n",
    "print(manager1.annual_salary())\n",
    "print(manager2.annual_salary())\n"
   ]
  },
  {
   "cell_type": "markdown",
   "id": "22513e3f-61bc-4cce-b207-c8816b7583f7",
   "metadata": {},
   "source": [
    "# Task7"
   ]
  },
  {
   "cell_type": "code",
   "execution_count": 7,
   "id": "1981eb16-b0e5-440e-a22c-7638891bd92c",
   "metadata": {},
   "outputs": [
    {
     "name": "stdout",
     "output_type": "stream",
     "text": [
      "Title: Python Programming, Author: John Doe, Year: 2023, File Size: 5MB\n"
     ]
    }
   ],
   "source": [
    "class Book:\n",
    "    def __init__(self, title, author, publication_year):\n",
    "        self.title = title\n",
    "        self.author = author\n",
    "        self.publication_year = publication_year\n",
    "\n",
    "    def display(self):\n",
    "        return f\"Title: {self.title}, Author: {self.author}, Year: {self.publication_year}\"\n",
    "\n",
    "class Ebook(Book):\n",
    "    def __init__(self, title, author, publication_year, file_size):\n",
    "        super().__init__(title, author, publication_year)\n",
    "        self.file_size = file_size\n",
    "\n",
    "    def display(self):\n",
    "        return f\"Title: {self.title}, Author: {self.author}, Year: {self.publication_year}, File Size: {self.file_size}MB\"\n",
    "\n",
    "ebook = Ebook(\"Python Programming\", \"John Doe\", 2023, 5)\n",
    "print(ebook.display())\n"
   ]
  },
  {
   "cell_type": "markdown",
   "id": "335a0190-2729-48cb-a12c-14ae4b79c02c",
   "metadata": {},
   "source": [
    "# Task 8"
   ]
  },
  {
   "cell_type": "code",
   "execution_count": 11,
   "id": "b3041650-7379-400d-8464-58013fdb2bcd",
   "metadata": {},
   "outputs": [
    {
     "name": "stdout",
     "output_type": "stream",
     "text": [
      "Dog (Brown) barks: Woof\n"
     ]
    }
   ],
   "source": [
    "class Animal:\n",
    "    def __init__(self, species, sound):\n",
    "        self.species = species\n",
    "        self.sound = sound\n",
    "\n",
    "    def make_sound(self):\n",
    "        return f\"{self.species} makes a sound: {self.sound}\"\n",
    "\n",
    "class Dog(Animal):\n",
    "    def __init__(self, species, sound, color):\n",
    "        super().__init__(species, sound)\n",
    "        self.color = color\n",
    "\n",
    "    def make_sound(self):\n",
    "        return f\"{self.species} ({self.color}) barks: {self.sound}\"\n",
    "\n",
    "dog = Dog(\"Dog\", \"Woof\", \"Brown\")\n",
    "print(dog.make_sound())\n"
   ]
  },
  {
   "cell_type": "code",
   "execution_count": 12,
   "id": "3f3870f0-4438-4332-bc97-adf979bc3eb2",
   "metadata": {},
   "outputs": [
    {
     "name": "stdout",
     "output_type": "stream",
     "text": [
      "Branches of National Bank: Uptown\n"
     ]
    }
   ],
   "source": [
    "class Bank:\n",
    "    def __init__(self, name):\n",
    "        self.name = name\n",
    "        self.branches = []\n",
    "\n",
    "    def add_branch(self, branch_name):\n",
    "        self.branches.append(branch_name)\n",
    "\n",
    "    def remove_branch(self, branch_name):\n",
    "        if branch_name in self.branches:\n",
    "            self.branches.remove(branch_name)\n",
    "\n",
    "    def display_branches(self):\n",
    "        return f\"Branches of {self.name}: {', '.join(self.branches)}\"\n",
    "\n",
    "bank = Bank(\"National Bank\")\n",
    "bank.add_branch(\"Downtown\")\n",
    "bank.add_branch(\"Uptown\")\n",
    "bank.remove_branch(\"Downtown\")\n",
    "print(bank.display_branches())\n"
   ]
  },
  {
   "cell_type": "code",
   "execution_count": 13,
   "id": "4c6157d4-a992-47bf-973e-460b69a7c572",
   "metadata": {},
   "outputs": [
    {
     "name": "stdout",
     "output_type": "stream",
     "text": [
      "Total Price: 50, Warranty: 2 years\n"
     ]
    }
   ],
   "source": [
    "class Product:\n",
    "    def __init__(self, product_id, name, price):\n",
    "        self.product_id = product_id\n",
    "        self.name = name\n",
    "        self.price = price\n",
    "\n",
    "    def calculate_total(self, quantity):\n",
    "        return self.price * quantity\n",
    "\n",
    "class PersonalCareProduct(Product):\n",
    "    def __init__(self, product_id, name, price, warranty_period):\n",
    "        super().__init__(product_id, name, price)\n",
    "        self.warranty_period = warranty_period\n",
    "\n",
    "    def calculate_total(self, quantity):\n",
    "        return f\"Total Price: {super().calculate_total(quantity)}, Warranty: {self.warranty_period} years\"\n",
    "\n",
    "product = PersonalCareProduct(101, \"Shampoo\", 10, 2)\n",
    "print(product.calculate_total(5))\n"
   ]
  },
  {
   "cell_type": "code",
   "execution_count": 14,
   "id": "dcd79584-b4f5-4eaf-97e2-e6ce4dc6b6ec",
   "metadata": {},
   "outputs": [
    {
     "name": "stdout",
     "output_type": "stream",
     "text": [
      "500\n",
      "900\n"
     ]
    }
   ],
   "source": [
    "class BankAccount:\n",
    "    def __init__(self, account_number, holder_name, balance):\n",
    "        self.account_number = account_number\n",
    "        self.holder_name = holder_name\n",
    "        self.balance = balance\n",
    "\n",
    "    def deposit(self, amount):\n",
    "        self.balance += amount\n",
    "\n",
    "    def withdraw(self, amount):\n",
    "        if amount <= self.balance:\n",
    "            self.balance -= amount\n",
    "\n",
    "    def transfer(self, amount, other_account):\n",
    "        if amount <= self.balance:\n",
    "            self.balance -= amount\n",
    "            other_account.deposit(amount)\n",
    "\n",
    "account1 = BankAccount(\"12345\", \"Alice\", 1000)\n",
    "account2 = BankAccount(\"67890\", \"Bob\", 500)\n",
    "\n",
    "account1.deposit(200)\n",
    "account1.withdraw(300)\n",
    "account1.transfer(400, account2)\n",
    "\n",
    "print(account1.balance)\n",
    "print(account2.balance)\n"
   ]
  },
  {
   "cell_type": "code",
   "execution_count": 15,
   "id": "70a8f9f3-0247-4c72-845c-fed45dcc554c",
   "metadata": {},
   "outputs": [
    {
     "name": "stdout",
     "output_type": "stream",
     "text": [
      "Departments at Tech University: Computer Science\n"
     ]
    }
   ],
   "source": [
    "class University:\n",
    "    def __init__(self, name):\n",
    "        self.name = name\n",
    "        self.departments = []\n",
    "\n",
    "    def add_department(self, department_name):\n",
    "        self.departments.append(department_name)\n",
    "\n",
    "    def remove_department(self, department_name):\n",
    "        if department_name in self.departments:\n",
    "            self.departments.remove(department_name)\n",
    "\n",
    "    def display_departments(self):\n",
    "        return f\"Departments at {self.name}: {', '.join(self.departments)}\"\n",
    "\n",
    "university = University(\"Tech University\")\n",
    "university.add_department(\"Computer Science\")\n",
    "university.add_department(\"Mathematics\")\n",
    "university.remove_department(\"Mathematics\")\n",
    "print(university.display_departments())\n"
   ]
  },
  {
   "cell_type": "code",
   "execution_count": null,
   "id": "15614b83-2000-4d5c-a44b-ba1459ff06e5",
   "metadata": {},
   "outputs": [],
   "source": []
  }
 ],
 "metadata": {
  "kernelspec": {
   "display_name": "Python 3 (ipykernel)",
   "language": "python",
   "name": "python3"
  },
  "language_info": {
   "codemirror_mode": {
    "name": "ipython",
    "version": 3
   },
   "file_extension": ".py",
   "mimetype": "text/x-python",
   "name": "python",
   "nbconvert_exporter": "python",
   "pygments_lexer": "ipython3",
   "version": "3.12.7"
  }
 },
 "nbformat": 4,
 "nbformat_minor": 5
}
