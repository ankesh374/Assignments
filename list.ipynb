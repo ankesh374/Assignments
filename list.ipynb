{
 "cells": [
  {
   "cell_type": "code",
   "execution_count": 1,
   "id": "92e0db82-7a16-40da-aca6-8336b85b024d",
   "metadata": {},
   "outputs": [
    {
     "name": "stdin",
     "output_type": "stream",
     "text": [
      "Enter list elements separated by space:  2 2 3 4 5 6 7 8 9\n"
     ]
    },
    {
     "name": "stdout",
     "output_type": "stream",
     "text": [
      "Alternate elements: [2, 3, 5, 7, 9]\n"
     ]
    }
   ],
   "source": [
    "   lst = list(map(int, input(\"Enter list elements separated by space: \").split()))\n",
    "print(\"Alternate elements:\", lst[::2])\n"
   ]
  },
  {
   "cell_type": "code",
   "execution_count": 2,
   "id": "1bec3cbf-cbdb-4ff4-9178-45c197a470c7",
   "metadata": {},
   "outputs": [
    {
     "name": "stdin",
     "output_type": "stream",
     "text": [
      "Enter list elements separated by space:  1 2 34 5 6 7 8 9987 54\n"
     ]
    },
    {
     "name": "stdout",
     "output_type": "stream",
     "text": [
      "Reversed list: [54, 9987, 8, 7, 6, 5, 34, 2, 1]\n"
     ]
    }
   ],
   "source": [
    "lst = list(map(int, input(\"Enter list elements separated by space: \").split()))\n",
    "reversed_list = lst[::-1]\n",
    "print(\"Reversed list:\", reversed_list)\n"
   ]
  },
  {
   "cell_type": "code",
   "execution_count": 3,
   "id": "e5800ab6-a08b-420c-b746-2e551899c8cc",
   "metadata": {},
   "outputs": [
    {
     "name": "stdin",
     "output_type": "stream",
     "text": [
      "Enter list elements separated by space:  1 2 3 4 5 6 7 8 676 65 5 5 \n"
     ]
    },
    {
     "name": "stdout",
     "output_type": "stream",
     "text": [
      "Largest number: 676\n"
     ]
    }
   ],
   "source": [
    "lst = list(map(int, input(\"Enter list elements separated by space: \").split()))\n",
    "largest = lst[0]\n",
    "for num in lst:\n",
    "    if num > largest:\n",
    "        largest = num\n",
    "print(\"Largest number:\", largest)\n"
   ]
  },
  {
   "cell_type": "code",
   "execution_count": 4,
   "id": "b2aea66a-c065-455c-86c5-b62b0e0f3957",
   "metadata": {},
   "outputs": [
    {
     "name": "stdin",
     "output_type": "stream",
     "text": [
      "Enter list elements separated by space:  1 2 3 4 5 6 7 8  6 54 5 6\n"
     ]
    },
    {
     "name": "stdout",
     "output_type": "stream",
     "text": [
      "Rotated list: [2, 3, 4, 5, 6, 7, 8, 6, 54, 5, 6, 1]\n"
     ]
    }
   ],
   "source": [
    "lst = list(map(int, input(\"Enter list elements separated by space: \").split()))\n",
    "rotated_list = lst[1:] + lst[:1]\n",
    "print(\"Rotated list:\", rotated_list)\n"
   ]
  },
  {
   "cell_type": "code",
   "execution_count": 5,
   "id": "5cc4c6ff-7214-4fdd-8ae3-2c4dcdbdd9df",
   "metadata": {},
   "outputs": [
    {
     "name": "stdin",
     "output_type": "stream",
     "text": [
      "Enter a string:  ANkeshhh\n",
      "Enter word to delete:  hh\n"
     ]
    },
    {
     "name": "stdout",
     "output_type": "stream",
     "text": [
      "Updated string: ANkesh\n"
     ]
    }
   ],
   "source": [
    "string = input(\"Enter a string: \")\n",
    "word_to_delete = input(\"Enter word to delete: \")\n",
    "updated_string = string.replace(word_to_delete, \"\").strip()\n",
    "print(\"Updated string:\", updated_string)\n"
   ]
  },
  {
   "cell_type": "code",
   "execution_count": 6,
   "id": "0a87afb0-1c34-40f3-86b6-81dd12bb67de",
   "metadata": {},
   "outputs": [
    {
     "name": "stdin",
     "output_type": "stream",
     "text": [
      "Enter date in mm/dd/yyyy format:  12/03/2019\n"
     ]
    },
    {
     "name": "stdout",
     "output_type": "stream",
     "text": [
      "Formatted date: December 3, 2019\n"
     ]
    }
   ],
   "source": [
    "date = input(\"Enter date in mm/dd/yyyy format: \")\n",
    "months = [\"January\", \"February\", \"March\", \"April\", \"May\", \"June\", \n",
    "          \"July\", \"August\", \"September\", \"October\", \"November\", \"December\"]\n",
    "mm, dd, yyyy = map(int, date.split('/'))\n",
    "formatted_date = f\"{months[mm-1]} {dd}, {yyyy}\"\n",
    "print(\"Formatted date:\", formatted_date)\n"
   ]
  },
  {
   "cell_type": "code",
   "execution_count": 7,
   "id": "ae252438-37c7-4962-a15b-8eb9d2dff1b8",
   "metadata": {},
   "outputs": [
    {
     "name": "stdin",
     "output_type": "stream",
     "text": [
      "Enter a sentence:  My name is ankesh\n"
     ]
    },
    {
     "name": "stdout",
     "output_type": "stream",
     "text": [
      "Capitalized sentence: My Name Is Ankesh\n"
     ]
    }
   ],
   "source": [
    "sentence = input(\"Enter a sentence: \")\n",
    "capitalized_sentence = ' '.join(word.capitalize() for word in sentence.split())\n",
    "print(\"Capitalized sentence:\", capitalized_sentence)\n"
   ]
  },
  {
   "cell_type": "code",
   "execution_count": 12,
   "id": "fdaad391-92b4-4ae2-9a9b-f1c2799e72f9",
   "metadata": {},
   "outputs": [
    {
     "name": "stdin",
     "output_type": "stream",
     "text": [
      "Enter matrix size (rows cols):  2 2\n",
      "Enter row 1 elements:  2 3\n",
      "Enter row 2 elements:  3 4\n"
     ]
    },
    {
     "name": "stdout",
     "output_type": "stream",
     "text": [
      "Sum of row 1 = 5\n",
      "Sum of row 2 = 7\n"
     ]
    }
   ],
   "source": [
    "## rows, cols = map(int, input(\"Enter matrix size (rows cols): \").split())\n",
    "matrix = []\n",
    "for i in range(rows):\n",
    "    matrix.append(list(map(int, input(f\"Enter row {i + 1} elements: \").split())))\n",
    "for i, row in enumerate(matrix):\n",
    "    print(f\"Sum of row {i + 1} =\", sum(row))\n"
   ]
  },
  {
   "cell_type": "code",
   "execution_count": 11,
   "id": "9f2b65d3-54db-4595-94a9-c3b5b0c028dc",
   "metadata": {},
   "outputs": [
    {
     "name": "stdin",
     "output_type": "stream",
     "text": [
      "Enter matrix size (rows cols):  4 4\n"
     ]
    },
    {
     "name": "stdout",
     "output_type": "stream",
     "text": [
      "Enter elements of matrix 1:\n"
     ]
    },
    {
     "name": "stdin",
     "output_type": "stream",
     "text": [
      "Row 1:  1 2 4 4\n",
      "Row 2:  2 3 4 5\n",
      "Row 3:  4 3 5 6 \n",
      "Row 4:  3 4 5 6\n"
     ]
    },
    {
     "name": "stdout",
     "output_type": "stream",
     "text": [
      "Enter elements of matrix 2:\n"
     ]
    },
    {
     "name": "stdin",
     "output_type": "stream",
     "text": [
      "Row 1:  1 2 3 4\n",
      "Row 2:  2 3 4 5\n",
      "Row 3:  4 6 7 8 \n",
      "Row 4:  3 4 6 8\n"
     ]
    },
    {
     "name": "stdout",
     "output_type": "stream",
     "text": [
      "Resultant matrix:\n",
      "[2, 4, 7, 8]\n",
      "[4, 6, 8, 10]\n",
      "[8, 9, 12, 14]\n",
      "[6, 8, 11, 14]\n"
     ]
    }
   ],
   "source": [
    "rows, cols = map(int, input(\"Enter matrix size (rows cols): \").split())\n",
    "matrix1, matrix2 = [], []\n",
    "print(\"Enter elements of matrix 1:\")\n",
    "for i in range(rows):\n",
    "    matrix1.append(list(map(int, input(f\"Row {i + 1}: \").split())))\n",
    "print(\"Enter elements of matrix 2:\")\n",
    "for i in range(rows):\n",
    "    matrix2.append(list(map(int, input(f\"Row {i + 1}: \").split())))\n",
    "result = [[matrix1[i][j] + matrix2[i][j] for j in range(cols)] for i in range(rows)]\n",
    "print(\"Resultant matrix:\")\n",
    "for row in result:\n",
    "    print(row)\n"
   ]
  },
  {
   "cell_type": "code",
   "execution_count": 13,
   "id": "c1e228a7-bc34-4f7a-ae15-4948e6f6dfa6",
   "metadata": {},
   "outputs": [
    {
     "name": "stdin",
     "output_type": "stream",
     "text": [
      "Enter size of first matrix (rows cols):  3 3\n",
      "Enter size of second matrix (rows cols):  2 2\n"
     ]
    },
    {
     "name": "stdout",
     "output_type": "stream",
     "text": [
      "Matrix multiplication is not possible.\n"
     ]
    }
   ],
   "source": [
    "rows1, cols1 = map(int, input(\"Enter size of first matrix (rows cols): \").split())\n",
    "rows2, cols2 = map(int, input(\"Enter size of second matrix (rows cols): \").split())\n",
    "if cols1 != rows2:\n",
    "    print(\"Matrix multiplication is not possible.\")\n",
    "else:\n",
    "    print(\"Enter elements of matrix 1:\")\n",
    "    matrix1 = [list(map(int, input(f\"Row {i + 1}: \").split())) for i in range(rows1)]\n",
    "    print(\"Enter elements of matrix 2:\")\n",
    "    matrix2 = [list(map(int, input(f\"Row {i + 1}: \").split())) for i in range(rows2)]\n",
    "    result = [[sum(matrix1[i][k] * matrix2[k][j] for k in range(cols1)) for j in range(cols2)] for i in range(rows1)]\n",
    "    print(\"Resultant matrix:\")\n",
    "    for row in result:\n",
    "        print(row)\n"
   ]
  },
  {
   "cell_type": "code",
   "execution_count": null,
   "id": "fd8d6f0a-b3e2-48bd-9fba-9f53068ba5eb",
   "metadata": {},
   "outputs": [],
   "source": []
  }
 ],
 "metadata": {
  "kernelspec": {
   "display_name": "Python 3 (ipykernel)",
   "language": "python",
   "name": "python3"
  },
  "language_info": {
   "codemirror_mode": {
    "name": "ipython",
    "version": 3
   },
   "file_extension": ".py",
   "mimetype": "text/x-python",
   "name": "python",
   "nbconvert_exporter": "python",
   "pygments_lexer": "ipython3",
   "version": "3.12.7"
  }
 },
 "nbformat": 4,
 "nbformat_minor": 5
}
