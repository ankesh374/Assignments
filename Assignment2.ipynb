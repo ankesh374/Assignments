{
 "cells": [
  {
   "cell_type": "code",
   "execution_count": 10,
   "id": "4ea5ad2e-1643-43be-80a4-17232d19702e",
   "metadata": {},
   "outputs": [
    {
     "name": "stdin",
     "output_type": "stream",
     "text": [
      " 3\n",
      " 4\n"
     ]
    },
    {
     "name": "stdout",
     "output_type": "stream",
     "text": [
      "12.0\n"
     ]
    }
   ],
   "source": [
    "length = float(input())\n",
    "width = float(input())\n",
    "print(length * width)"
   ]
  },
  {
   "cell_type": "code",
   "execution_count": 4,
   "id": "a39451d6-44e3-4669-9759-695300ddf811",
   "metadata": {},
   "outputs": [
    {
     "name": "stdin",
     "output_type": "stream",
     "text": [
      "Enter the radius of the circle:  3.44\n"
     ]
    },
    {
     "name": "stdout",
     "output_type": "stream",
     "text": [
      "The circumference of the circle is: 21.614157456697775\n"
     ]
    }
   ],
   "source": [
    "# 2. Circumference of a Circle\n",
    "import math\n",
    "radius = float(input())\n",
    "print(2 * math.pi * radius)"
   ]
  },
  {
   "cell_type": "code",
   "execution_count": 6,
   "id": "99e6306f-6877-4757-a832-65efcb5d7adb",
   "metadata": {},
   "outputs": [
    {
     "name": "stdin",
     "output_type": "stream",
     "text": [
      "Enter the Principal amount:  33\n",
      "Enter the Rate of Interest (in %):  2\n",
      "Enter the Time period (in years):  2\n"
     ]
    },
    {
     "name": "stdout",
     "output_type": "stream",
     "text": [
      "The Simple Interest is: 1.32\n"
     ]
    }
   ],
   "source": [
    "# 3. Simple Interest\n",
    "principal = float(input())\n",
    "rate = float(input())\n",
    "time = float(input())\n",
    "print(principal * rate * time)"
   ]
  },
  {
   "cell_type": "code",
   "execution_count": 8,
   "id": "0d89af11-a2b6-4bd4-91ec-04e3368f5edc",
   "metadata": {},
   "outputs": [
    {
     "name": "stdin",
     "output_type": "stream",
     "text": [
      " 333\n",
      " 15\n"
     ]
    },
    {
     "name": "stdout",
     "output_type": "stream",
     "text": [
      "1.48\n"
     ]
    }
   ],
   "source": [
    "weight = float(input())\n",
    "height = float(input())\n",
    "print(weight / (height ** 2))"
   ]
  },
  {
   "cell_type": "code",
   "execution_count": 9,
   "id": "99505f07-19b5-4c5f-aabc-c53289ace7a8",
   "metadata": {},
   "outputs": [
    {
     "name": "stdin",
     "output_type": "stream",
     "text": [
      " 3\n",
      " 4\n"
     ]
    },
    {
     "name": "stdout",
     "output_type": "stream",
     "text": [
      "12.0\n"
     ]
    }
   ],
   "source": [
    "# 6. Force Using Newton's Second Law\n",
    "mass = float(input())\n",
    "acceleration = float(input())\n",
    "print(mass * acceleration)"
   ]
  },
  {
   "cell_type": "code",
   "execution_count": 12,
   "id": "3c36a8ad-65f9-4d09-a299-9747c4158830",
   "metadata": {},
   "outputs": [
    {
     "name": "stdin",
     "output_type": "stream",
     "text": [
      " 4.4\n",
      " 4.3\n",
      " 3\n",
      " 3\n"
     ]
    },
    {
     "name": "stdout",
     "output_type": "stream",
     "text": [
      "13160.340472304988\n"
     ]
    }
   ],
   "source": [
    "# 7. Compound Interest\n",
    "principal = float(input())\n",
    "rate = float(input())\n",
    "times_compounded = int(input())\n",
    "time = float(input())\n",
    "print(principal * (1 + rate / times_compounded) ** (times_compounded * time))\n"
   ]
  },
  {
   "cell_type": "code",
   "execution_count": 13,
   "id": "09a30e5d-e732-4e59-afb4-7f98370d6758",
   "metadata": {},
   "outputs": [
    {
     "name": "stdin",
     "output_type": "stream",
     "text": [
      " 3.3\n",
      " 3.2\n",
      " 3.6\n"
     ]
    },
    {
     "name": "stdout",
     "output_type": "stream",
     "text": [
      "10.1\n"
     ]
    }
   ],
   "source": [
    "# 8. Perimeter of a Triangle\n",
    "a = float(input())\n",
    "b = float(input())\n",
    "c = float(input())\n",
    "print(a + b + c)3.3"
   ]
  },
  {
   "cell_type": "code",
   "execution_count": null,
   "id": "68eaf650-48b1-4f39-a871-4364ed1feb84",
   "metadata": {},
   "outputs": [],
   "source": [
    "# 9. Volume of a # 10. Kinetic Energy\n",
    "mass = float(input())\n",
    "velocity = float(input())\n",
    "print(0.5 * mass * velocity ** 2)\n",
    "radius = float(input())\n",
    "print((4/3) * math.pi * (radius ** 3))"
   ]
  },
  {
   "cell_type": "code",
   "execution_count": null,
   "id": "a90d3279-d320-492b-a5cc-406286d3124f",
   "metadata": {},
   "outputs": [],
   "source": [
    "# 11. Quadratic Equation Roots\n",
    "import cmath\n",
    "a = float(input())\n",
    "b = float(input())\n",
    "c = float(input())\n",
    "discriminant = cmath.sqrt(b**2 - 4*a*c)\n",
    "print((-b + discriminant) / (2*a), (-b - discriminant) / (2*a))"
   ]
  },
  {
   "cell_type": "code",
   "execution_count": null,
   "id": "1f2e7f83-215d-4465-8ffa-c41dde6659bd",
   "metadata": {},
   "outputs": [],
   "source": [
    "# 12. Temperature Conversion\n",
    "celsius = float(input())\n",
    "print((celsius * 9/5) + 32)"
   ]
  },
  {
   "cell_type": "code",
   "execution_count": null,
   "id": "84f15961-6e54-46ee-9f8a-4d08cb10ba8e",
   "metadata": {},
   "outputs": [],
   "source": [
    "# 13. Gravitational Force\n",
    "G = 6.674 * (10**-11)\n",
    "m1 = float(input())\n",
    "m2 = float(input())\n",
    "r = float(input())\n",
    "print(G * m1 * m2 / r**2)\n"
   ]
  },
  {
   "cell_type": "code",
   "execution_count": null,
   "id": "aa8f43e4-b310-46e0-a6ba-f3f21ef897c8",
   "metadata": {},
   "outputs": [],
   "source": [
    "# 14. Volume of a Cylinder\n",
    "radius = float(input())\n",
    "height = float(input())\n",
    "print(math.pi * radius ** 2 * height)"
   ]
  },
  {
   "cell_type": "code",
   "execution_count": null,
   "id": "e0d4eea1-ebb6-4cf3-9371-7763586e9e27",
   "metadata": {},
   "outputs": [],
   "source": [
    "# 15. Pressure\n",
    "force = float(input())\n",
    "area = float(input())\n",
    "print(force / area)\n"
   ]
  },
  {
   "cell_type": "code",
   "execution_count": null,
   "id": "11f51618-68bc-480c-bd83-6f122e07b987",
   "metadata": {},
   "outputs": [],
   "source": [
    "# 16. Electric Power\n",
    "voltage = float(input())\n",
    "current = float(input())\n",
    "print(voltage * current)"
   ]
  },
  {
   "cell_type": "code",
   "execution_count": null,
   "id": "a4270802-4b36-47c9-bd1a-2e7de40422c5",
   "metadata": {},
   "outputs": [],
   "source": [
    "# 17. Perimeter of a Circle\n",
    "radius = float(input())\n",
    "print(2 * math.pi * radius)"
   ]
  },
  {
   "cell_type": "code",
   "execution_count": null,
   "id": "ee3d2767-cc02-4522-a0df-9d1f1aca8215",
   "metadata": {},
   "outputs": [],
   "source": [
    "# 18. Future Value in Savings\n",
    "present_value = float(input())\n",
    "rate = float(input())\n",
    "time = float(input())\n",
    "print(present_value * (1 + rate) ** time)"
   ]
  },
  {
   "cell_type": "code",
   "execution_count": null,
   "id": "63b01539-602e-4c58-9049-8938f04ad0e1",
   "metadata": {},
   "outputs": [],
   "source": [
    "# 19. Work Done by a Force\n",
    "force = float(input())\n",
    "distance = float(input())\n",
    "theta = float(input())\n",
    "print(force * distance * math.cos(math.radians(theta)))\n",
    "\n"
   ]
  },
  {
   "cell_type": "code",
   "execution_count": null,
   "id": "30af66cb-bce9-40e6-a50b-3f1788325c2d",
   "metadata": {},
   "outputs": [],
   "source": [
    "# 20. Heat Transfer\n",
    "mass = float(input())\n",
    "specific_heat = float(input())\n",
    "temperature_change = float(input())\n",
    "print(mass * specific_heat * temperature_change)\n"
   ]
  }
 ],
 "metadata": {
  "kernelspec": {
   "display_name": "Python 3 (ipykernel)",
   "language": "python",
   "name": "python3"
  },
  "language_info": {
   "codemirror_mode": {
    "name": "ipython",
    "version": 3
   },
   "file_extension": ".py",
   "mimetype": "text/x-python",
   "name": "python",
   "nbconvert_exporter": "python",
   "pygments_lexer": "ipython3",
   "version": "3.12.7"
  }
 },
 "nbformat": 4,
 "nbformat_minor": 5
}
